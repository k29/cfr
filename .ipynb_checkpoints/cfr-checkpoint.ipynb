{
 "cells": [
  {
   "cell_type": "code",
   "execution_count": 6,
   "metadata": {},
   "outputs": [
    {
     "name": "stdout",
     "output_type": "stream",
     "text": [
      "Populating the interactive namespace from numpy and matplotlib\n",
      "The autoreload extension is already loaded. To reload it, use:\n",
      "  %reload_ext autoreload\n"
     ]
    },
    {
     "name": "stderr",
     "output_type": "stream",
     "text": [
      "/Users/kaustubh.n/anaconda3/lib/python3.6/site-packages/IPython/core/magics/pylab.py:160: UserWarning: pylab import has clobbered these variables: ['random']\n",
      "`%matplotlib` prevents importing * from pylab and numpy\n",
      "  \"\\n`%matplotlib` prevents importing * from pylab and numpy\"\n"
     ]
    }
   ],
   "source": [
    "%pylab inline \n",
    "%load_ext autoreload\n",
    "%autoreload 2\n",
    "\n",
    "import numpy as np \n",
    "import random\n",
    "np.set_printoptions(suppress=True)"
   ]
  },
  {
   "cell_type": "code",
   "execution_count": 7,
   "metadata": {},
   "outputs": [],
   "source": [
    "ROCK, PAPER, SCISSORS = 0,1,2\n",
    "NUM_ACTIONS = 3\n",
    "regretSum = np.zeros(NUM_ACTIONS)\n",
    "strategySum = np.zeros(NUM_ACTIONS)\n",
    "oppStrategy = np.array([0.4, 0.3, 0.3])\n",
    "def value(p1, p2):\n",
    "    if p1 == p2:\n",
    "        return 0\n",
    "    elif p1 == ROCK and p2 == SCISSORS:\n",
    "        return 1\n",
    "    elif p1 == SCISSORS and p2 == PAPER:\n",
    "        return 1\n",
    "    elif p1 == PAPER and p2 == ROCK:\n",
    "        return 1\n",
    "    else:\n",
    "        return -1"
   ]
  },
  {
   "cell_type": "code",
   "execution_count": 8,
   "metadata": {},
   "outputs": [],
   "source": [
    "# accumulates in strategy sum \n",
    "def getStrategy():\n",
    "    global regretSum, strategySum\n",
    "    strategy = np.maximum(regretSum, 0)\n",
    "    normalisingSum = np.sum(strategy)\n",
    "    if normalisingSum > 0:\n",
    "        strategy /= normalisingSum\n",
    "    else:\n",
    "        strategy = np.ones(NUM_ACTIONS)/NUM_ACTIONS\n",
    "    strategySum += strategy\n",
    "    return strategy\n",
    "\n",
    "# use strategy sum \n",
    "def getAverageStrategy():\n",
    "    global strategySum\n",
    "    normalisingSum = np.sum(strategySum)\n",
    "    if normalisingSum > 0:\n",
    "        avgStrategy = strategySum/normalisingSum\n",
    "    else:\n",
    "        avgStrategy = np.ones(NUM_ACTIONS)/NUM_ACTIONS\n",
    "    return avgStrategy\n",
    "\n",
    "def getAction(strategy):\n",
    "    rr = random.random()\n",
    "    return np.searchsorted(np.cumsum(strategy), rr)"
   ]
  },
  {
   "cell_type": "code",
   "execution_count": 9,
   "metadata": {},
   "outputs": [],
   "source": [
    "def train(iterations):\n",
    "    global regretSum\n",
    "    actionUtility = np.zeros(NUM_ACTIONS)\n",
    "    for i in range(iterations):\n",
    "        strategy = getStrategy()\n",
    "        myAction = getAction(strategy)\n",
    "        otherAction = getAction(oppStrategy)\n",
    "        \n",
    "        actionUtility[otherAction] = 0\n",
    "        actionUtility[(otherAction + 1) % NUM_ACTIONS] = 1\n",
    "        actionUtility[(otherAction - 1) % NUM_ACTIONS] = -1\n",
    "        \n",
    "        regretSum += actionUtility - actionUtility[myAction]\n",
    "\n",
    "        \n",
    "train(100000)"
   ]
  },
  {
   "cell_type": "code",
   "execution_count": 10,
   "metadata": {},
   "outputs": [
    {
     "data": {
      "text/plain": [
       "array([0.00041181, 0.99949152, 0.00009667])"
      ]
     },
     "execution_count": 10,
     "metadata": {},
     "output_type": "execute_result"
    }
   ],
   "source": [
    "getAverageStrategy()"
   ]
  },
  {
   "cell_type": "code",
   "execution_count": 64,
   "metadata": {},
   "outputs": [
    {
     "data": {
      "text/plain": [
       "([<matplotlib.lines.Line2D at 0x10e885d68>], 2.23)"
      ]
     },
     "execution_count": 64,
     "metadata": {},
     "output_type": "execute_result"
    },
    {
     "data": {
      "image/png": "[encoded data removed]",
      "text/plain": [
       "<Figure size 432x288 with 1 Axes>"
      ]
     },
     "metadata": {},
     "output_type": "display_data"
    }
   ],
   "source": [
    "vvv = []\n",
    "for j in range(100):\n",
    "    vv = 0\n",
    "    for i in range(1000):    \n",
    "#         strategy = getStrategy()\n",
    "#       this is probably what we will convege to \n",
    "#       strategy = np.array([0, 1, 0]) \n",
    "        strategy = getAverageStrategy()\n",
    "        myAction = getAction(strategy)\n",
    "        otherAction = getAction(oppStrategy)\n",
    "        vv += value(myAction, otherAction)\n",
    "    vvv.append(vv)\n",
    "# plt.hist(vvv, bins=10)\n",
    "plot(sorted(vvv)), np.mean(vvv)"
   ]
  },
  {
   "cell_type": "code",
   "execution_count": 27,
   "metadata": {},
   "outputs": [
    {
     "data": {
      "image/png": "[encoded data removed]",
      "text/plain": [
       "<Figure size 432x288 with 1 Axes>"
      ]
     },
     "metadata": {},
     "output_type": "display_data"
    }
   ],
   "source": [
    "for j in range(5):\n",
    "    a = [getAction(getStrategy()) for i in range(100)]\n",
    "    plot(sorted(a))"
   ]
  },
  {
   "cell_type": "code",
   "execution_count": null,
   "metadata": {},
   "outputs": [],
   "source": []
  }
 ],
 "metadata": {
  "kernelspec": {
   "display_name": "Python 3",
   "language": "python",
   "name": "python3"
  },
  "language_info": {
   "codemirror_mode": {
    "name": "ipython",
    "version": 3
   },
   "file_extension": ".py",
   "mimetype": "text/x-python",
   "name": "python",
   "nbconvert_exporter": "python",
   "pygments_lexer": "ipython3",
   "version": "3.6.5"
  }
 },
 "nbformat": 4,
 "nbformat_minor": 2
}
